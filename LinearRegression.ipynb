{
  "nbformat": 4,
  "nbformat_minor": 0,
  "metadata": {
    "colab": {
      "provenance": [],
      "include_colab_link": true
    },
    "kernelspec": {
      "name": "python3",
      "display_name": "Python 3"
    },
    "language_info": {
      "name": "python"
    }
  },
  "cells": [
    {
      "cell_type": "markdown",
      "metadata": {
        "id": "view-in-github",
        "colab_type": "text"
      },
      "source": [
        "<a href=\"https://colab.research.google.com/github/RioVossKernan/Learning-AI/blob/main/LinearRegression.ipynb\" target=\"_parent\"><img src=\"https://colab.research.google.com/assets/colab-badge.svg\" alt=\"Open In Colab\"/></a>"
      ]
    },
    {
      "cell_type": "code",
      "execution_count": 1,
      "metadata": {
        "id": "UBQGavUG2XDy"
      },
      "outputs": [],
      "source": [
        "import random\n",
        "import math\n",
        "%matplotlib inline\n",
        "import pandas as pd\n",
        "import numpy as np\n",
        "import matplotlib.pyplot as plt"
      ]
    },
    {
      "cell_type": "code",
      "source": [
        "points = []\n",
        "x = []\n",
        "y = []\n",
        "\n",
        "def setPoints(i):\n",
        "  #empty lists\n",
        "  points.clear()\n",
        "  x.clear()\n",
        "  y.clear()\n",
        "\n",
        "  # add random x,y values between 0 and 99\n",
        "  for i in range(i):\n",
        "    points.append([random.randint(0,99),random.randint(0,99)])\n",
        "\n",
        "  # make lists of all x values and all y's. Used for graphing\n",
        "  for i in points:\n",
        "    x.append(i[0])\n",
        "    y.append(i[1])\n",
        "\n",
        "  return points"
      ],
      "metadata": {
        "id": "Hz5_sNjT2hhv"
      },
      "execution_count": 2,
      "outputs": []
    },
    {
      "cell_type": "code",
      "source": [
        "def score(list):\n",
        "  x = list[0]\n",
        "  y = list[1]\n",
        "  totalDist = float()\n",
        "  #get the distance to every point\n",
        "  for i in points:\n",
        "      xdist = x - i[0]\n",
        "      ydist = y - i[1]\n",
        "      dist= math.sqrt(xdist*xdist + ydist*ydist)\n",
        "      totalDist += dist\n",
        "\n",
        "  #average distance to a point is how we measure the goodness of a position\n",
        "  aveDist = totalDist/len(points)\n",
        "  return(aveDist)"
      ],
      "metadata": {
        "id": "GFlnQLtK3oIu"
      },
      "execution_count": 3,
      "outputs": []
    },
    {
      "cell_type": "code",
      "source": [
        "def findBestPos(list):\n",
        "  pos = list\n",
        "\n",
        "  #loop until we find the best spot\n",
        "  while True:\n",
        "    # add every possible direction we could move\n",
        "    moves = []\n",
        "    moves.append([pos[0] + 1 , pos[1] + 1])\n",
        "    moves.append([pos[0] + 1 , pos[1] - 1])\n",
        "    moves.append([pos[0] - 1 , pos[1] + 1])\n",
        "    moves.append([pos[0]  - 1 , pos[1] - 1])\n",
        "    moves.append([pos[0] + 1 , pos[1]])\n",
        "    moves.append([pos[0] - 1 , pos[1]])\n",
        "    moves.append([pos[0] , pos[1] + 1])\n",
        "    moves.append([pos[0] , pos[1] - 1])\n",
        "\n",
        "    #best move is to stay still be default\n",
        "    bestMoveScore = score(pos)\n",
        "    bestPos = pos\n",
        "\n",
        "    #if a move is better than the best move, its the new best move\n",
        "    for i in moves:\n",
        "      if score(i) < bestMoveScore:\n",
        "        bestMoveScore = score(i)\n",
        "        bestPos = i\n",
        "\n",
        "    #if the best move is to stay still break. else keep moving\n",
        "    if bestPos == pos:\n",
        "      break\n",
        "    else:\n",
        "      pos = bestPos\n",
        "\n",
        "  return pos"
      ],
      "metadata": {
        "id": "MHL2iVj66m-D"
      },
      "execution_count": 4,
      "outputs": []
    },
    {
      "cell_type": "code",
      "source": [
        "#original firehouse pos\n",
        "start = [random.randint(0,99), random.randint(0,99)]\n",
        "print(setPoints(10))\n",
        "\n",
        "#best pos for firehouse\n",
        "bestPos = findBestPos(start)\n",
        "print(bestPos)\n",
        "\n",
        "#graph\n",
        "plt.figure(figsize = (10,10))\n",
        "plt.plot(x,y,'o',color = 'blue')\n",
        "plt.plot(bestPos[0],bestPos[1], 'o', color = 'red',markersize = 20)"
      ],
      "metadata": {
        "colab": {
          "base_uri": "https://localhost:8080/",
          "height": 882
        },
        "id": "p2KOkEqC2lpo",
        "outputId": "c9565736-3005-4dd1-cc32-6321f5c08557"
      },
      "execution_count": 5,
      "outputs": [
        {
          "output_type": "stream",
          "name": "stdout",
          "text": [
            "[[64, 85], [88, 99], [51, 44], [10, 43], [88, 89], [59, 26], [90, 25], [32, 29], [9, 58], [27, 81]]\n",
            "[49, 51]\n"
          ]
        },
        {
          "output_type": "execute_result",
          "data": {
            "text/plain": [
              "[<matplotlib.lines.Line2D at 0x7fcf65cab040>]"
            ]
          },
          "metadata": {},
          "execution_count": 5
        },
        {
          "output_type": "display_data",
          "data": {
            "text/plain": [
              "<Figure size 1000x1000 with 1 Axes>"
            ],
            "image/png": "[encoded data removed]"
          },
          "metadata": {}
        }
      ]
    }
  ]
}